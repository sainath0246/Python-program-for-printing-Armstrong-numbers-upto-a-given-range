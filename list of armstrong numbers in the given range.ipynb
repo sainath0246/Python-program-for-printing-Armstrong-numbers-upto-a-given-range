{
 "cells": [
  {
   "cell_type": "code",
   "execution_count": 2,
   "id": "26240d0d",
   "metadata": {},
   "outputs": [
    {
     "name": "stdout",
     "output_type": "stream",
     "text": [
      "2000\n",
      "The armsrtong numbers in the given range are [0, 1, 2, 3, 4, 5, 6, 7, 8, 9, 153, 370, 371, 407, 1634]\n"
     ]
    }
   ],
   "source": [
    "def armstrong_numbers(n):\n",
    "    a=[]\n",
    "    for i in range(n):\n",
    "        d=i\n",
    "        g=d\n",
    "        f=d\n",
    "        count=0\n",
    "        sum=0\n",
    "        while(d>0):\n",
    "            count+=1\n",
    "            d=d//10\n",
    "        for k in range(g):\n",
    "            e=g%10\n",
    "            sum=sum+e**count\n",
    "            g=g//10\n",
    "        if sum==f:\n",
    "            a.append(f) \n",
    "    return print(\"The armsrtong numbers in the given range are\",a)\n",
    "n=int(input())\n",
    "armstrong_numbers(n)"
   ]
  },
  {
   "cell_type": "code",
   "execution_count": 3,
   "id": "60b36a6d",
   "metadata": {},
   "outputs": [
    {
     "data": {
      "text/plain": [
       "370"
      ]
     },
     "execution_count": 3,
     "metadata": {},
     "output_type": "execute_result"
    }
   ],
   "source": [
    "7**3+3**3"
   ]
  },
  {
   "cell_type": "code",
   "execution_count": null,
   "id": "4ea3b566",
   "metadata": {},
   "outputs": [],
   "source": []
  }
 ],
 "metadata": {
  "kernelspec": {
   "display_name": "Python 3",
   "language": "python",
   "name": "python3"
  },
  "language_info": {
   "codemirror_mode": {
    "name": "ipython",
    "version": 3
   },
   "file_extension": ".py",
   "mimetype": "text/x-python",
   "name": "python",
   "nbconvert_exporter": "python",
   "pygments_lexer": "ipython3",
   "version": "3.8.8"
  }
 },
 "nbformat": 4,
 "nbformat_minor": 5
}
